{
  "nbformat": 4,
  "nbformat_minor": 0,
  "metadata": {
    "colab": {
      "provenance": []
    },
    "kernelspec": {
      "name": "python3",
      "display_name": "Python 3"
    },
    "language_info": {
      "name": "python"
    }
  },
  "cells": [
    {
      "cell_type": "code",
      "execution_count": 1,
      "metadata": {
        "id": "HrFXRL_icmaW"
      },
      "outputs": [],
      "source": [
        "from keras.datasets import fashion_mnist \n",
        "from keras.layers import Dense, Conv2D, Flatten\n",
        "from keras.models import Sequential \n",
        "from keras.utils import np_utils  "
      ]
    },
    {
      "cell_type": "code",
      "source": [
        "(x_train, y_train), (x_test, y_test) = fashion_mnist.load_data()\n",
        "x_train = x_train.reshape(60000, 28, 28, 1)\n",
        "x_test = x_test.reshape(10000, 28, 28, 1)\n",
        "x_train = x_train.astype('float32')\n",
        "x_test = x_test.astype('float32')\n",
        "x_train /= 255\n",
        "x_test /= 255\n",
        "y_train = np_utils.to_categorical(y_train, 10)\n",
        "y_test = np_utils.to_categorical(y_test, 10)"
      ],
      "metadata": {
        "id": "btiAGXiAdaMB"
      },
      "execution_count": null,
      "outputs": []
    },
    {
      "cell_type": "code",
      "source": [
        "model = Sequential()\n",
        "model.add(Conv2D(8, (2, 2), activation='relu', input_shape=(28,28,1)))\n",
        "model.add(Flatten())\n",
        "model.add(Dense(128, activation=\"elu\"))\n",
        "model.add(Dense(10, activation=\"softmax\"))\n",
        "model.summary()\n",
        "model.compile(loss='categorical_crossentropy', optimizer='sgd', metrics=['accuracy'])\n",
        "model.fit(x_train, y_train, batch_size=128, epochs=16, verbose=1)"
      ],
      "metadata": {
        "id": "0pUm2SOnd4WX"
      },
      "execution_count": null,
      "outputs": []
    }
  ]
}